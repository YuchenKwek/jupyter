{
 "cells": [
  {
   "cell_type": "markdown",
   "metadata": {},
   "source": [
    "# My Jupyter Notebook on IBM Watson Studio"
   ]
  },
  {
   "cell_type": "markdown",
   "metadata": {},
   "source": [
    "**Name : Yu Chen**\n",
    "\n",
    "Current occupation : Data Analyst Intern"
   ]
  },
  {
   "cell_type": "markdown",
   "metadata": {},
   "source": [
    "*I am interested in data science because it allows me to discover some insights other people don't see and it makes me feel good to dive into the data-driven world.*"
   ]
  },
  {
   "cell_type": "markdown",
   "metadata": {},
   "source": [
    "### Let's do some simple math."
   ]
  },
  {
   "cell_type": "code",
   "execution_count": 3,
   "metadata": {},
   "outputs": [
    {
     "data": {
      "text/plain": [
       "2"
      ]
     },
     "execution_count": 3,
     "metadata": {},
     "output_type": "execute_result"
    }
   ],
   "source": [
    "1 + 1"
   ]
  },
  {
   "cell_type": "markdown",
   "metadata": {},
   "source": [
    "## My ~~To-Do~~ne List : \n",
    "---\n",
    "1. Introduction\n",
    "2. Problem Background\n",
    "3. Methodology\n",
    "4. Analysis : Off-grid Village Mapping in West Malaysia\n",
    " * Pahang\n",
    " - Kelantan\n",
    " + Perak\n",
    "5. Conclusion  \n",
    "   \n",
    "---\n",
    "`About the Project`\n",
    "* Date : 7th August 2022\n",
    "* Version : 1st edition\n",
    "* Author : Yu Chen\n",
    "\n",
    "\n",
    "More Info : [Click Here]\n",
    "\n",
    "[Click Here]: https://www.petronas.com/media/press-release/petronas-brings-rays-hope-sinar-harapan-life-orang-asli-and-community-based"
   ]
  },
  {
   "cell_type": "code",
   "execution_count": null,
   "metadata": {},
   "outputs": [],
   "source": []
  }
 ],
 "metadata": {
  "kernelspec": {
   "display_name": "Python 3.9",
   "language": "python",
   "name": "python3"
  },
  "language_info": {
   "codemirror_mode": {
    "name": "ipython",
    "version": 3
   },
   "file_extension": ".py",
   "mimetype": "text/x-python",
   "name": "python",
   "nbconvert_exporter": "python",
   "pygments_lexer": "ipython3",
   "version": "3.9.12"
  }
 },
 "nbformat": 4,
 "nbformat_minor": 1
}
